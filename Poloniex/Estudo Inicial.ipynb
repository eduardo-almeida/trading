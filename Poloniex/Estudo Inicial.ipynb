{
 "cells": [
  {
   "cell_type": "code",
   "execution_count": 5,
   "metadata": {},
   "outputs": [],
   "source": [
    "# import this package\n",
    "from poloniex import Poloniex\n",
    "\n",
    "# make an instance of poloniex.Poloniex\n",
    "polo = Poloniex()\n",
    "import pandas as pd\n",
    "from time import time"
   ]
  },
  {
   "cell_type": "code",
   "execution_count": 3,
   "metadata": {},
   "outputs": [
    {
     "data": {
      "text/plain": [
       "poloniex.Poloniex"
      ]
     },
     "execution_count": 3,
     "metadata": {},
     "output_type": "execute_result"
    }
   ],
   "source": [
    "type(polo)"
   ]
  },
  {
   "cell_type": "code",
   "execution_count": 44,
   "metadata": {},
   "outputs": [],
   "source": [
    "api = Poloniex(jsonNums=float)\n",
    "\n",
    "#raw = api.returnChartData('BTC_LTC', period=api.DAY, start=time()-api.YEAR*10)\n",
    "raw = api.returnChartData('BTC_LTC', period=300, start=time()-api.MONTH*3)\n",
    "\n",
    "df = pd.DataFrame(raw)"
   ]
  },
  {
   "cell_type": "code",
   "execution_count": 33,
   "metadata": {},
   "outputs": [
    {
     "name": "stdout",
     "output_type": "stream",
     "text": [
      "<class 'pandas.core.frame.DataFrame'>\n",
      "RangeIndex: 8640 entries, 0 to 8639\n",
      "Data columns (total 8 columns):\n",
      "close              8640 non-null float64\n",
      "date               8640 non-null float64\n",
      "high               8640 non-null float64\n",
      "low                8640 non-null float64\n",
      "open               8640 non-null float64\n",
      "quoteVolume        8640 non-null float64\n",
      "volume             8640 non-null float64\n",
      "weightedAverage    8640 non-null float64\n",
      "dtypes: float64(8)\n",
      "memory usage: 540.1 KB\n"
     ]
    }
   ],
   "source": [
    "df.info()"
   ]
  },
  {
   "cell_type": "code",
   "execution_count": 45,
   "metadata": {},
   "outputs": [
    {
     "data": {
      "text/plain": [
       "(25920, 8)"
      ]
     },
     "execution_count": 45,
     "metadata": {},
     "output_type": "execute_result"
    }
   ],
   "source": [
    "df.shape"
   ]
  },
  {
   "cell_type": "code",
   "execution_count": 35,
   "metadata": {},
   "outputs": [],
   "source": [
    "# adjust dates format and set dates as index\n",
    "df['date'] = pd.to_datetime(df[\"date\"], unit='s')\n",
    "df.set_index('date', inplace=True)"
   ]
  },
  {
   "cell_type": "code",
   "execution_count": 37,
   "metadata": {},
   "outputs": [
    {
     "data": {
      "text/html": [
       "<div>\n",
       "<style scoped>\n",
       "    .dataframe tbody tr th:only-of-type {\n",
       "        vertical-align: middle;\n",
       "    }\n",
       "\n",
       "    .dataframe tbody tr th {\n",
       "        vertical-align: top;\n",
       "    }\n",
       "\n",
       "    .dataframe thead th {\n",
       "        text-align: right;\n",
       "    }\n",
       "</style>\n",
       "<table border=\"1\" class=\"dataframe\">\n",
       "  <thead>\n",
       "    <tr style=\"text-align: right;\">\n",
       "      <th></th>\n",
       "      <th>close</th>\n",
       "      <th>high</th>\n",
       "      <th>low</th>\n",
       "      <th>open</th>\n",
       "      <th>quoteVolume</th>\n",
       "      <th>volume</th>\n",
       "      <th>weightedAverage</th>\n",
       "    </tr>\n",
       "    <tr>\n",
       "      <th>date</th>\n",
       "      <th></th>\n",
       "      <th></th>\n",
       "      <th></th>\n",
       "      <th></th>\n",
       "      <th></th>\n",
       "      <th></th>\n",
       "      <th></th>\n",
       "    </tr>\n",
       "  </thead>\n",
       "  <tbody>\n",
       "    <tr>\n",
       "      <th>2020-05-22 21:01:01</th>\n",
       "      <td>0.004857</td>\n",
       "      <td>0.004857</td>\n",
       "      <td>0.004857</td>\n",
       "      <td>0.004857</td>\n",
       "      <td>0.000000</td>\n",
       "      <td>0.000000</td>\n",
       "      <td>0.004857</td>\n",
       "    </tr>\n",
       "    <tr>\n",
       "      <th>2020-05-22 21:06:01</th>\n",
       "      <td>0.004857</td>\n",
       "      <td>0.004857</td>\n",
       "      <td>0.004857</td>\n",
       "      <td>0.004857</td>\n",
       "      <td>0.000000</td>\n",
       "      <td>0.000000</td>\n",
       "      <td>0.004857</td>\n",
       "    </tr>\n",
       "    <tr>\n",
       "      <th>2020-05-22 21:10:00</th>\n",
       "      <td>0.004853</td>\n",
       "      <td>0.004853</td>\n",
       "      <td>0.004848</td>\n",
       "      <td>0.004852</td>\n",
       "      <td>20.083008</td>\n",
       "      <td>0.097354</td>\n",
       "      <td>0.004848</td>\n",
       "    </tr>\n",
       "    <tr>\n",
       "      <th>2020-05-22 21:15:00</th>\n",
       "      <td>0.004842</td>\n",
       "      <td>0.004854</td>\n",
       "      <td>0.004842</td>\n",
       "      <td>0.004854</td>\n",
       "      <td>0.000671</td>\n",
       "      <td>0.000003</td>\n",
       "      <td>0.004842</td>\n",
       "    </tr>\n",
       "    <tr>\n",
       "      <th>2020-05-22 21:20:00</th>\n",
       "      <td>0.004836</td>\n",
       "      <td>0.004840</td>\n",
       "      <td>0.004836</td>\n",
       "      <td>0.004840</td>\n",
       "      <td>0.265390</td>\n",
       "      <td>0.001284</td>\n",
       "      <td>0.004837</td>\n",
       "    </tr>\n",
       "  </tbody>\n",
       "</table>\n",
       "</div>"
      ],
      "text/plain": [
       "                        close      high       low      open  quoteVolume  \\\n",
       "date                                                                       \n",
       "2020-05-22 21:01:01  0.004857  0.004857  0.004857  0.004857     0.000000   \n",
       "2020-05-22 21:06:01  0.004857  0.004857  0.004857  0.004857     0.000000   \n",
       "2020-05-22 21:10:00  0.004853  0.004853  0.004848  0.004852    20.083008   \n",
       "2020-05-22 21:15:00  0.004842  0.004854  0.004842  0.004854     0.000671   \n",
       "2020-05-22 21:20:00  0.004836  0.004840  0.004836  0.004840     0.265390   \n",
       "\n",
       "                       volume  weightedAverage  \n",
       "date                                            \n",
       "2020-05-22 21:01:01  0.000000         0.004857  \n",
       "2020-05-22 21:06:01  0.000000         0.004857  \n",
       "2020-05-22 21:10:00  0.097354         0.004848  \n",
       "2020-05-22 21:15:00  0.000003         0.004842  \n",
       "2020-05-22 21:20:00  0.001284         0.004837  "
      ]
     },
     "execution_count": 37,
     "metadata": {},
     "output_type": "execute_result"
    }
   ],
   "source": [
    "df.head()"
   ]
  },
  {
   "cell_type": "code",
   "execution_count": null,
   "metadata": {},
   "outputs": [],
   "source": []
  }
 ],
 "metadata": {
  "kernelspec": {
   "display_name": "Python 3",
   "language": "python",
   "name": "python3"
  },
  "language_info": {
   "codemirror_mode": {
    "name": "ipython",
    "version": 3
   },
   "file_extension": ".py",
   "mimetype": "text/x-python",
   "name": "python",
   "nbconvert_exporter": "python",
   "pygments_lexer": "ipython3",
   "version": "3.7.3"
  }
 },
 "nbformat": 4,
 "nbformat_minor": 2
}
