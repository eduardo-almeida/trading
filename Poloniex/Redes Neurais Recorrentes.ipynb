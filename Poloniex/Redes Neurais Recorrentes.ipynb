{
 "cells": [
  {
   "cell_type": "code",
   "execution_count": 19,
   "metadata": {},
   "outputs": [],
   "source": [
    "import pandas as pd\n",
    "import\n",
    "from time import time\n",
    "from poloniex import Poloniex\n",
    "import matplotlib.pyplot as plt\n",
    "from sklearn import preprocessing"
   ]
  },
  {
   "cell_type": "code",
   "execution_count": 2,
   "metadata": {},
   "outputs": [],
   "source": [
    "# make an instance of poloniex.Poloniex\n",
    "polo = Poloniex()"
   ]
  },
  {
   "cell_type": "code",
   "execution_count": 40,
   "metadata": {},
   "outputs": [],
   "source": [
    "api = Poloniex(jsonNums=float)\n",
    "\n",
    "#raw = api.returnChartData('BTC_LTC', period=api.DAY, start=time()-api.YEAR*10)\n",
    "#raw = api.returnChartData('BTC_LTC', period=300, start=time()-api.MONTH*3)\n",
    "raw = api.returnChartData('BTC_ETH', period=api.DAY, start=time()-api.MONTH*3)\n",
    "df = pd.DataFrame(raw)"
   ]
  },
  {
   "cell_type": "code",
   "execution_count": 4,
   "metadata": {},
   "outputs": [],
   "source": [
    "# adjust dates format and set dates as index\n",
    "df['date'] = pd.to_datetime(df[\"date\"], unit='s')\n",
    "df.set_index('date', inplace=True)"
   ]
  },
  {
   "cell_type": "code",
   "execution_count": 5,
   "metadata": {
    "scrolled": true
   },
   "outputs": [
    {
     "data": {
      "text/plain": [
       "(91, 7)"
      ]
     },
     "execution_count": 5,
     "metadata": {},
     "output_type": "execute_result"
    }
   ],
   "source": [
    "df.shape"
   ]
  },
  {
   "cell_type": "code",
   "execution_count": 41,
   "metadata": {},
   "outputs": [
    {
     "data": {
      "text/html": [
       "<div>\n",
       "<style scoped>\n",
       "    .dataframe tbody tr th:only-of-type {\n",
       "        vertical-align: middle;\n",
       "    }\n",
       "\n",
       "    .dataframe tbody tr th {\n",
       "        vertical-align: top;\n",
       "    }\n",
       "\n",
       "    .dataframe thead th {\n",
       "        text-align: right;\n",
       "    }\n",
       "</style>\n",
       "<table border=\"1\" class=\"dataframe\">\n",
       "  <thead>\n",
       "    <tr style=\"text-align: right;\">\n",
       "      <th></th>\n",
       "      <th>close</th>\n",
       "      <th>date</th>\n",
       "      <th>high</th>\n",
       "      <th>low</th>\n",
       "      <th>open</th>\n",
       "      <th>quoteVolume</th>\n",
       "      <th>volume</th>\n",
       "      <th>weightedAverage</th>\n",
       "    </tr>\n",
       "  </thead>\n",
       "  <tbody>\n",
       "    <tr>\n",
       "      <th>86</th>\n",
       "      <td>0.024713</td>\n",
       "      <td>1.592352e+09</td>\n",
       "      <td>0.024914</td>\n",
       "      <td>0.024568</td>\n",
       "      <td>0.024702</td>\n",
       "      <td>10473.546485</td>\n",
       "      <td>258.741947</td>\n",
       "      <td>0.024704</td>\n",
       "    </tr>\n",
       "    <tr>\n",
       "      <th>87</th>\n",
       "      <td>0.024634</td>\n",
       "      <td>1.592438e+09</td>\n",
       "      <td>0.024839</td>\n",
       "      <td>0.024439</td>\n",
       "      <td>0.024704</td>\n",
       "      <td>5816.328365</td>\n",
       "      <td>143.594069</td>\n",
       "      <td>0.024688</td>\n",
       "    </tr>\n",
       "    <tr>\n",
       "      <th>88</th>\n",
       "      <td>0.024586</td>\n",
       "      <td>1.592525e+09</td>\n",
       "      <td>0.024707</td>\n",
       "      <td>0.024390</td>\n",
       "      <td>0.024639</td>\n",
       "      <td>8575.096843</td>\n",
       "      <td>210.680910</td>\n",
       "      <td>0.024569</td>\n",
       "    </tr>\n",
       "    <tr>\n",
       "      <th>89</th>\n",
       "      <td>0.024454</td>\n",
       "      <td>1.592611e+09</td>\n",
       "      <td>0.024716</td>\n",
       "      <td>0.024402</td>\n",
       "      <td>0.024586</td>\n",
       "      <td>4169.450438</td>\n",
       "      <td>102.333303</td>\n",
       "      <td>0.024544</td>\n",
       "    </tr>\n",
       "    <tr>\n",
       "      <th>90</th>\n",
       "      <td>0.024536</td>\n",
       "      <td>1.592698e+09</td>\n",
       "      <td>0.024646</td>\n",
       "      <td>0.024430</td>\n",
       "      <td>0.024464</td>\n",
       "      <td>3098.838745</td>\n",
       "      <td>76.091894</td>\n",
       "      <td>0.024555</td>\n",
       "    </tr>\n",
       "  </tbody>\n",
       "</table>\n",
       "</div>"
      ],
      "text/plain": [
       "       close          date      high       low      open   quoteVolume  \\\n",
       "86  0.024713  1.592352e+09  0.024914  0.024568  0.024702  10473.546485   \n",
       "87  0.024634  1.592438e+09  0.024839  0.024439  0.024704   5816.328365   \n",
       "88  0.024586  1.592525e+09  0.024707  0.024390  0.024639   8575.096843   \n",
       "89  0.024454  1.592611e+09  0.024716  0.024402  0.024586   4169.450438   \n",
       "90  0.024536  1.592698e+09  0.024646  0.024430  0.024464   3098.838745   \n",
       "\n",
       "        volume  weightedAverage  \n",
       "86  258.741947         0.024704  \n",
       "87  143.594069         0.024688  \n",
       "88  210.680910         0.024569  \n",
       "89  102.333303         0.024544  \n",
       "90   76.091894         0.024555  "
      ]
     },
     "execution_count": 41,
     "metadata": {},
     "output_type": "execute_result"
    }
   ],
   "source": [
    "df.tail()"
   ]
  },
  {
   "cell_type": "code",
   "execution_count": 42,
   "metadata": {
    "scrolled": true
   },
   "outputs": [],
   "source": [
    "etherium = df.copy()"
   ]
  },
  {
   "cell_type": "code",
   "execution_count": 43,
   "metadata": {},
   "outputs": [],
   "source": [
    "etherium.drop(['high', 'low', 'open','quoteVolume', 'volume', 'weightedAverage'], axis=1, inplace=True)"
   ]
  },
  {
   "cell_type": "code",
   "execution_count": 44,
   "metadata": {},
   "outputs": [
    {
     "data": {
      "text/html": [
       "<div>\n",
       "<style scoped>\n",
       "    .dataframe tbody tr th:only-of-type {\n",
       "        vertical-align: middle;\n",
       "    }\n",
       "\n",
       "    .dataframe tbody tr th {\n",
       "        vertical-align: top;\n",
       "    }\n",
       "\n",
       "    .dataframe thead th {\n",
       "        text-align: right;\n",
       "    }\n",
       "</style>\n",
       "<table border=\"1\" class=\"dataframe\">\n",
       "  <thead>\n",
       "    <tr style=\"text-align: right;\">\n",
       "      <th></th>\n",
       "      <th>close</th>\n",
       "      <th>date</th>\n",
       "    </tr>\n",
       "  </thead>\n",
       "  <tbody>\n",
       "    <tr>\n",
       "      <th>86</th>\n",
       "      <td>0.024713</td>\n",
       "      <td>1.592352e+09</td>\n",
       "    </tr>\n",
       "    <tr>\n",
       "      <th>87</th>\n",
       "      <td>0.024634</td>\n",
       "      <td>1.592438e+09</td>\n",
       "    </tr>\n",
       "    <tr>\n",
       "      <th>88</th>\n",
       "      <td>0.024586</td>\n",
       "      <td>1.592525e+09</td>\n",
       "    </tr>\n",
       "    <tr>\n",
       "      <th>89</th>\n",
       "      <td>0.024454</td>\n",
       "      <td>1.592611e+09</td>\n",
       "    </tr>\n",
       "    <tr>\n",
       "      <th>90</th>\n",
       "      <td>0.024536</td>\n",
       "      <td>1.592698e+09</td>\n",
       "    </tr>\n",
       "  </tbody>\n",
       "</table>\n",
       "</div>"
      ],
      "text/plain": [
       "       close          date\n",
       "86  0.024713  1.592352e+09\n",
       "87  0.024634  1.592438e+09\n",
       "88  0.024586  1.592525e+09\n",
       "89  0.024454  1.592611e+09\n",
       "90  0.024536  1.592698e+09"
      ]
     },
     "execution_count": 44,
     "metadata": {},
     "output_type": "execute_result"
    }
   ],
   "source": [
    "etherium.tail()"
   ]
  },
  {
   "cell_type": "code",
   "execution_count": 52,
   "metadata": {},
   "outputs": [
    {
     "ename": "NameError",
     "evalue": "name 'numpy' is not defined",
     "output_type": "error",
     "traceback": [
      "\u001b[0;31m---------------------------------------------------------------------------\u001b[0m",
      "\u001b[0;31mNameError\u001b[0m                                 Traceback (most recent call last)",
      "\u001b[0;32m<ipython-input-52-8e46aaa7f3e7>\u001b[0m in \u001b[0;36m<module>\u001b[0;34m\u001b[0m\n\u001b[1;32m      1\u001b[0m \u001b[0mnormalizador\u001b[0m \u001b[0;34m=\u001b[0m \u001b[0mpreprocessing\u001b[0m\u001b[0;34m.\u001b[0m\u001b[0mMinMaxScaler\u001b[0m\u001b[0;34m(\u001b[0m\u001b[0;34m)\u001b[0m\u001b[0;34m\u001b[0m\u001b[0;34m\u001b[0m\u001b[0m\n\u001b[1;32m      2\u001b[0m \u001b[0mteste\u001b[0m \u001b[0;34m=\u001b[0m \u001b[0metherium\u001b[0m\u001b[0;34m.\u001b[0m\u001b[0miloc\u001b[0m\u001b[0;34m[\u001b[0m\u001b[0;34m:\u001b[0m\u001b[0;34m,\u001b[0m\u001b[0;36m0\u001b[0m\u001b[0;34m:\u001b[0m\u001b[0;36m1\u001b[0m\u001b[0;34m]\u001b[0m\u001b[0;34m.\u001b[0m\u001b[0mvalues\u001b[0m\u001b[0;34m\u001b[0m\u001b[0;34m\u001b[0m\u001b[0m\n\u001b[0;32m----> 3\u001b[0;31m \u001b[0mtype\u001b[0m\u001b[0;34m(\u001b[0m\u001b[0mteste\u001b[0m\u001b[0;34m.\u001b[0m\u001b[0mastype\u001b[0m\u001b[0;34m(\u001b[0m\u001b[0mnumpy\u001b[0m\u001b[0;34m.\u001b[0m\u001b[0mint64\u001b[0m\u001b[0;34m)\u001b[0m\u001b[0;34m)\u001b[0m\u001b[0;34m\u001b[0m\u001b[0;34m\u001b[0m\u001b[0m\n\u001b[0m\u001b[1;32m      4\u001b[0m \u001b[0;31m#base = normalizador.fit_transform(teste)\u001b[0m\u001b[0;34m\u001b[0m\u001b[0;34m\u001b[0m\u001b[0;34m\u001b[0m\u001b[0m\n\u001b[1;32m      5\u001b[0m \u001b[0;31m#etherium['close'] = pd.DataFrame(base)\u001b[0m\u001b[0;34m\u001b[0m\u001b[0;34m\u001b[0m\u001b[0;34m\u001b[0m\u001b[0m\n",
      "\u001b[0;31mNameError\u001b[0m: name 'numpy' is not defined"
     ]
    }
   ],
   "source": [
    "normalizador = preprocessing.MinMaxScaler()\n",
    "teste = etherium.iloc[:,0:1].values\n",
    "type(teste.astype(numpy.int64))\n",
    "#base = normalizador.fit_transform(teste)\n",
    "#etherium['close'] = pd.DataFrame(base)"
   ]
  },
  {
   "cell_type": "code",
   "execution_count": 46,
   "metadata": {},
   "outputs": [
    {
     "data": {
      "text/plain": [
       "array([[0.02101671],\n",
       "       [0.02052907],\n",
       "       [0.02035704],\n",
       "       [0.020546  ],\n",
       "       [0.02065052],\n",
       "       [0.02100088],\n",
       "       [0.02116618],\n",
       "       [0.02066705],\n",
       "       [0.02071544],\n",
       "       [0.02041784],\n",
       "       [0.02080173],\n",
       "       [0.02097894],\n",
       "       [0.02101965],\n",
       "       [0.02106842],\n",
       "       [0.023356  ],\n",
       "       [0.02286073],\n",
       "       [0.02351535],\n",
       "       [0.02329   ],\n",
       "       [0.023005  ],\n",
       "       [0.02302283],\n",
       "       [0.02296999],\n",
       "       [0.02286244],\n",
       "       [0.02305386],\n",
       "       [0.02307045],\n",
       "       [0.02425957],\n",
       "       [0.02427407],\n",
       "       [0.02586461],\n",
       "       [0.02528   ],\n",
       "       [0.02493262],\n",
       "       [0.02495129],\n",
       "       [0.02564856],\n",
       "       [0.02499008],\n",
       "       [0.02498601],\n",
       "       [0.02576558],\n",
       "       [0.02565728],\n",
       "       [0.02527049],\n",
       "       [0.02536411],\n",
       "       [0.02453577],\n",
       "       [0.02390277],\n",
       "       [0.02401215],\n",
       "       [0.02384261],\n",
       "       [0.02358582],\n",
       "       [0.0232852 ],\n",
       "       [0.02276029],\n",
       "       [0.02174722],\n",
       "       [0.02124312],\n",
       "       [0.02157329],\n",
       "       [0.02202655],\n",
       "       [0.0214974 ],\n",
       "       [0.0217    ],\n",
       "       [0.02156044],\n",
       "       [0.02146458],\n",
       "       [0.02076238],\n",
       "       [0.0209018 ],\n",
       "       [0.02137935],\n",
       "       [0.02139108],\n",
       "       [0.02208432],\n",
       "       [0.02193421],\n",
       "       [0.022081  ],\n",
       "       [0.02191562],\n",
       "       [0.02261145],\n",
       "       [0.02250702],\n",
       "       [0.02290967],\n",
       "       [0.02293185],\n",
       "       [0.02272415],\n",
       "       [0.02264541],\n",
       "       [0.02299451],\n",
       "       [0.02340703],\n",
       "       [0.02512044],\n",
       "       [0.02450906],\n",
       "       [0.0243557 ],\n",
       "       [0.02497437],\n",
       "       [0.02531261],\n",
       "       [0.02484724],\n",
       "       [0.02494249],\n",
       "       [0.02503752],\n",
       "       [0.02509426],\n",
       "       [0.02520471],\n",
       "       [0.02496407],\n",
       "       [0.02508597],\n",
       "       [0.02484454],\n",
       "       [0.02510999],\n",
       "       [0.02513621],\n",
       "       [0.02481718],\n",
       "       [0.02448815],\n",
       "       [0.02470778],\n",
       "       [0.02471342],\n",
       "       [0.02463413],\n",
       "       [0.02458636],\n",
       "       [0.02445432],\n",
       "       [0.02453556]])"
      ]
     },
     "execution_count": 46,
     "metadata": {},
     "output_type": "execute_result"
    }
   ],
   "source": [
    "teste"
   ]
  },
  {
   "cell_type": "code",
   "execution_count": 21,
   "metadata": {},
   "outputs": [
    {
     "data": {
      "text/html": [
       "<div>\n",
       "<style scoped>\n",
       "    .dataframe tbody tr th:only-of-type {\n",
       "        vertical-align: middle;\n",
       "    }\n",
       "\n",
       "    .dataframe tbody tr th {\n",
       "        vertical-align: top;\n",
       "    }\n",
       "\n",
       "    .dataframe thead th {\n",
       "        text-align: right;\n",
       "    }\n",
       "</style>\n",
       "<table border=\"1\" class=\"dataframe\">\n",
       "  <thead>\n",
       "    <tr style=\"text-align: right;\">\n",
       "      <th></th>\n",
       "      <th>0</th>\n",
       "    </tr>\n",
       "  </thead>\n",
       "  <tbody>\n",
       "    <tr>\n",
       "      <th>86</th>\n",
       "      <td>0.790980</td>\n",
       "    </tr>\n",
       "    <tr>\n",
       "      <th>87</th>\n",
       "      <td>0.776584</td>\n",
       "    </tr>\n",
       "    <tr>\n",
       "      <th>88</th>\n",
       "      <td>0.767910</td>\n",
       "    </tr>\n",
       "    <tr>\n",
       "      <th>89</th>\n",
       "      <td>0.743936</td>\n",
       "    </tr>\n",
       "    <tr>\n",
       "      <th>90</th>\n",
       "      <td>0.769477</td>\n",
       "    </tr>\n",
       "  </tbody>\n",
       "</table>\n",
       "</div>"
      ],
      "text/plain": [
       "           0\n",
       "86  0.790980\n",
       "87  0.776584\n",
       "88  0.767910\n",
       "89  0.743936\n",
       "90  0.769477"
      ]
     },
     "execution_count": 21,
     "metadata": {},
     "output_type": "execute_result"
    }
   ],
   "source": [
    "etherium.tail()"
   ]
  },
  {
   "cell_type": "code",
   "execution_count": null,
   "metadata": {},
   "outputs": [],
   "source": []
  },
  {
   "cell_type": "code",
   "execution_count": 15,
   "metadata": {
    "scrolled": true
   },
   "outputs": [
    {
     "data": {
      "image/png": "[encoded data removed]",
      "text/plain": [
       "<Figure size 1152x360 with 1 Axes>"
      ]
     },
     "metadata": {
      "needs_background": "light"
     },
     "output_type": "display_data"
    }
   ],
   "source": [
    "etherium['simpleReturn'].plot(figsize=(16,5));"
   ]
  },
  {
   "cell_type": "code",
   "execution_count": null,
   "metadata": {},
   "outputs": [],
   "source": []
  }
 ],
 "metadata": {
  "kernelspec": {
   "display_name": "Python 3",
   "language": "python",
   "name": "python3"
  },
  "language_info": {
   "codemirror_mode": {
    "name": "ipython",
    "version": 3
   },
   "file_extension": ".py",
   "mimetype": "text/x-python",
   "name": "python",
   "nbconvert_exporter": "python",
   "pygments_lexer": "ipython3",
   "version": "3.7.3"
  }
 },
 "nbformat": 4,
 "nbformat_minor": 2
}
