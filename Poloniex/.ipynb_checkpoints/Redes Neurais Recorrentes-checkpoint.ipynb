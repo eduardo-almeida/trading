{
 "cells": [
  {
   "cell_type": "code",
   "execution_count": 11,
   "metadata": {},
   "outputs": [],
   "source": [
    "import pandas as pd\n",
    "from time import time\n",
    "from poloniex import Poloniex\n",
    "import matplotlib.pyplot as plt"
   ]
  },
  {
   "cell_type": "code",
   "execution_count": 2,
   "metadata": {},
   "outputs": [],
   "source": [
    "# make an instance of poloniex.Poloniex\n",
    "polo = Poloniex()"
   ]
  },
  {
   "cell_type": "code",
   "execution_count": 16,
   "metadata": {},
   "outputs": [],
   "source": [
    "api = Poloniex(jsonNums=float)\n",
    "\n",
    "#raw = api.returnChartData('BTC_LTC', period=api.DAY, start=time()-api.YEAR*10)\n",
    "#raw = api.returnChartData('BTC_LTC', period=300, start=time()-api.MONTH*3)\n",
    "raw = api.returnChartData('BTC_ETH', period=300, start=time()-api.MONTH*3)\n",
    "df = pd.DataFrame(raw)"
   ]
  },
  {
   "cell_type": "code",
   "execution_count": 17,
   "metadata": {},
   "outputs": [],
   "source": [
    "# adjust dates format and set dates as index\n",
    "df['date'] = pd.to_datetime(df[\"date\"], unit='s')\n",
    "df.set_index('date', inplace=True)"
   ]
  },
  {
   "cell_type": "code",
   "execution_count": 18,
   "metadata": {
    "scrolled": true
   },
   "outputs": [
    {
     "data": {
      "text/plain": [
       "(25921, 7)"
      ]
     },
     "execution_count": 18,
     "metadata": {},
     "output_type": "execute_result"
    }
   ],
   "source": [
    "df.shape"
   ]
  },
  {
   "cell_type": "code",
   "execution_count": 19,
   "metadata": {},
   "outputs": [
    {
     "data": {
      "text/html": [
       "<div>\n",
       "<style scoped>\n",
       "    .dataframe tbody tr th:only-of-type {\n",
       "        vertical-align: middle;\n",
       "    }\n",
       "\n",
       "    .dataframe tbody tr th {\n",
       "        vertical-align: top;\n",
       "    }\n",
       "\n",
       "    .dataframe thead th {\n",
       "        text-align: right;\n",
       "    }\n",
       "</style>\n",
       "<table border=\"1\" class=\"dataframe\">\n",
       "  <thead>\n",
       "    <tr style=\"text-align: right;\">\n",
       "      <th></th>\n",
       "      <th>close</th>\n",
       "      <th>high</th>\n",
       "      <th>low</th>\n",
       "      <th>open</th>\n",
       "      <th>quoteVolume</th>\n",
       "      <th>volume</th>\n",
       "      <th>weightedAverage</th>\n",
       "    </tr>\n",
       "    <tr>\n",
       "      <th>date</th>\n",
       "      <th></th>\n",
       "      <th></th>\n",
       "      <th></th>\n",
       "      <th></th>\n",
       "      <th></th>\n",
       "      <th></th>\n",
       "      <th></th>\n",
       "    </tr>\n",
       "  </thead>\n",
       "  <tbody>\n",
       "    <tr>\n",
       "      <th>2020-06-21 21:30:00</th>\n",
       "      <td>0.024598</td>\n",
       "      <td>0.024611</td>\n",
       "      <td>0.024598</td>\n",
       "      <td>0.024598</td>\n",
       "      <td>0.000676</td>\n",
       "      <td>0.000017</td>\n",
       "      <td>0.024599</td>\n",
       "    </tr>\n",
       "    <tr>\n",
       "      <th>2020-06-21 21:35:00</th>\n",
       "      <td>0.024597</td>\n",
       "      <td>0.024611</td>\n",
       "      <td>0.024594</td>\n",
       "      <td>0.024598</td>\n",
       "      <td>0.030955</td>\n",
       "      <td>0.000761</td>\n",
       "      <td>0.024596</td>\n",
       "    </tr>\n",
       "    <tr>\n",
       "      <th>2020-06-21 21:40:00</th>\n",
       "      <td>0.024601</td>\n",
       "      <td>0.024601</td>\n",
       "      <td>0.024589</td>\n",
       "      <td>0.024589</td>\n",
       "      <td>0.002800</td>\n",
       "      <td>0.000069</td>\n",
       "      <td>0.024592</td>\n",
       "    </tr>\n",
       "    <tr>\n",
       "      <th>2020-06-21 21:45:00</th>\n",
       "      <td>0.024602</td>\n",
       "      <td>0.024621</td>\n",
       "      <td>0.024597</td>\n",
       "      <td>0.024597</td>\n",
       "      <td>20.098962</td>\n",
       "      <td>0.494683</td>\n",
       "      <td>0.024612</td>\n",
       "    </tr>\n",
       "    <tr>\n",
       "      <th>2020-06-21 21:50:00</th>\n",
       "      <td>0.024613</td>\n",
       "      <td>0.024613</td>\n",
       "      <td>0.024599</td>\n",
       "      <td>0.024599</td>\n",
       "      <td>0.002090</td>\n",
       "      <td>0.000051</td>\n",
       "      <td>0.024602</td>\n",
       "    </tr>\n",
       "  </tbody>\n",
       "</table>\n",
       "</div>"
      ],
      "text/plain": [
       "                        close      high       low      open  quoteVolume  \\\n",
       "date                                                                       \n",
       "2020-06-21 21:30:00  0.024598  0.024611  0.024598  0.024598     0.000676   \n",
       "2020-06-21 21:35:00  0.024597  0.024611  0.024594  0.024598     0.030955   \n",
       "2020-06-21 21:40:00  0.024601  0.024601  0.024589  0.024589     0.002800   \n",
       "2020-06-21 21:45:00  0.024602  0.024621  0.024597  0.024597    20.098962   \n",
       "2020-06-21 21:50:00  0.024613  0.024613  0.024599  0.024599     0.002090   \n",
       "\n",
       "                       volume  weightedAverage  \n",
       "date                                            \n",
       "2020-06-21 21:30:00  0.000017         0.024599  \n",
       "2020-06-21 21:35:00  0.000761         0.024596  \n",
       "2020-06-21 21:40:00  0.000069         0.024592  \n",
       "2020-06-21 21:45:00  0.494683         0.024612  \n",
       "2020-06-21 21:50:00  0.000051         0.024602  "
      ]
     },
     "execution_count": 19,
     "metadata": {},
     "output_type": "execute_result"
    }
   ],
   "source": [
    "df.tail()"
   ]
  },
  {
   "cell_type": "code",
   "execution_count": 20,
   "metadata": {},
   "outputs": [],
   "source": [
    "df['simpleReturn'] = (df['close']/df['close'].shift(1))-1"
   ]
  },
  {
   "cell_type": "code",
   "execution_count": 21,
   "metadata": {},
   "outputs": [
    {
     "data": {
      "text/html": [
       "<div>\n",
       "<style scoped>\n",
       "    .dataframe tbody tr th:only-of-type {\n",
       "        vertical-align: middle;\n",
       "    }\n",
       "\n",
       "    .dataframe tbody tr th {\n",
       "        vertical-align: top;\n",
       "    }\n",
       "\n",
       "    .dataframe thead th {\n",
       "        text-align: right;\n",
       "    }\n",
       "</style>\n",
       "<table border=\"1\" class=\"dataframe\">\n",
       "  <thead>\n",
       "    <tr style=\"text-align: right;\">\n",
       "      <th></th>\n",
       "      <th>close</th>\n",
       "      <th>high</th>\n",
       "      <th>low</th>\n",
       "      <th>open</th>\n",
       "      <th>quoteVolume</th>\n",
       "      <th>volume</th>\n",
       "      <th>weightedAverage</th>\n",
       "      <th>simpleReturn</th>\n",
       "    </tr>\n",
       "    <tr>\n",
       "      <th>date</th>\n",
       "      <th></th>\n",
       "      <th></th>\n",
       "      <th></th>\n",
       "      <th></th>\n",
       "      <th></th>\n",
       "      <th></th>\n",
       "      <th></th>\n",
       "      <th></th>\n",
       "    </tr>\n",
       "  </thead>\n",
       "  <tbody>\n",
       "    <tr>\n",
       "      <th>2020-06-21 21:30:00</th>\n",
       "      <td>0.024598</td>\n",
       "      <td>0.024611</td>\n",
       "      <td>0.024598</td>\n",
       "      <td>0.024598</td>\n",
       "      <td>0.000676</td>\n",
       "      <td>0.000017</td>\n",
       "      <td>0.024599</td>\n",
       "      <td>-0.000525</td>\n",
       "    </tr>\n",
       "    <tr>\n",
       "      <th>2020-06-21 21:35:00</th>\n",
       "      <td>0.024597</td>\n",
       "      <td>0.024611</td>\n",
       "      <td>0.024594</td>\n",
       "      <td>0.024598</td>\n",
       "      <td>0.030955</td>\n",
       "      <td>0.000761</td>\n",
       "      <td>0.024596</td>\n",
       "      <td>-0.000041</td>\n",
       "    </tr>\n",
       "    <tr>\n",
       "      <th>2020-06-21 21:40:00</th>\n",
       "      <td>0.024601</td>\n",
       "      <td>0.024601</td>\n",
       "      <td>0.024589</td>\n",
       "      <td>0.024589</td>\n",
       "      <td>0.002800</td>\n",
       "      <td>0.000069</td>\n",
       "      <td>0.024592</td>\n",
       "      <td>0.000161</td>\n",
       "    </tr>\n",
       "    <tr>\n",
       "      <th>2020-06-21 21:45:00</th>\n",
       "      <td>0.024602</td>\n",
       "      <td>0.024621</td>\n",
       "      <td>0.024597</td>\n",
       "      <td>0.024597</td>\n",
       "      <td>20.098962</td>\n",
       "      <td>0.494683</td>\n",
       "      <td>0.024612</td>\n",
       "      <td>0.000043</td>\n",
       "    </tr>\n",
       "    <tr>\n",
       "      <th>2020-06-21 21:50:00</th>\n",
       "      <td>0.024613</td>\n",
       "      <td>0.024613</td>\n",
       "      <td>0.024599</td>\n",
       "      <td>0.024599</td>\n",
       "      <td>0.002090</td>\n",
       "      <td>0.000051</td>\n",
       "      <td>0.024602</td>\n",
       "      <td>0.000445</td>\n",
       "    </tr>\n",
       "  </tbody>\n",
       "</table>\n",
       "</div>"
      ],
      "text/plain": [
       "                        close      high       low      open  quoteVolume  \\\n",
       "date                                                                       \n",
       "2020-06-21 21:30:00  0.024598  0.024611  0.024598  0.024598     0.000676   \n",
       "2020-06-21 21:35:00  0.024597  0.024611  0.024594  0.024598     0.030955   \n",
       "2020-06-21 21:40:00  0.024601  0.024601  0.024589  0.024589     0.002800   \n",
       "2020-06-21 21:45:00  0.024602  0.024621  0.024597  0.024597    20.098962   \n",
       "2020-06-21 21:50:00  0.024613  0.024613  0.024599  0.024599     0.002090   \n",
       "\n",
       "                       volume  weightedAverage  simpleReturn  \n",
       "date                                                          \n",
       "2020-06-21 21:30:00  0.000017         0.024599     -0.000525  \n",
       "2020-06-21 21:35:00  0.000761         0.024596     -0.000041  \n",
       "2020-06-21 21:40:00  0.000069         0.024592      0.000161  \n",
       "2020-06-21 21:45:00  0.494683         0.024612      0.000043  \n",
       "2020-06-21 21:50:00  0.000051         0.024602      0.000445  "
      ]
     },
     "execution_count": 21,
     "metadata": {},
     "output_type": "execute_result"
    }
   ],
   "source": [
    "df.tail()"
   ]
  },
  {
   "cell_type": "code",
   "execution_count": 23,
   "metadata": {},
   "outputs": [
    {
     "data": {
      "image/png": "[encoded data removed]",
      "text/plain": [
       "<Figure size 1152x360 with 1 Axes>"
      ]
     },
     "metadata": {
      "needs_background": "light"
     },
     "output_type": "display_data"
    }
   ],
   "source": [
    "df['simpleReturn'].plot(figsize=(16,5));"
   ]
  },
  {
   "cell_type": "code",
   "execution_count": null,
   "metadata": {},
   "outputs": [],
   "source": []
  }
 ],
 "metadata": {
  "kernelspec": {
   "display_name": "Python 3",
   "language": "python",
   "name": "python3"
  },
  "language_info": {
   "codemirror_mode": {
    "name": "ipython",
    "version": 3
   },
   "file_extension": ".py",
   "mimetype": "text/x-python",
   "name": "python",
   "nbconvert_exporter": "python",
   "pygments_lexer": "ipython3",
   "version": "3.7.3"
  }
 },
 "nbformat": 4,
 "nbformat_minor": 2
}
