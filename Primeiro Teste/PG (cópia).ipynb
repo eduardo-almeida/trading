{
 "cells": [
  {
   "cell_type": "code",
   "execution_count": 14,
   "metadata": {},
   "outputs": [],
   "source": [
    "from pandas_datareader import data as wb\n",
    "import pandas as pd"
   ]
  },
  {
   "cell_type": "code",
   "execution_count": 4,
   "metadata": {},
   "outputs": [],
   "source": [
    "pg = wb.DataReader('PG', data_source='yahoo', start='1995-1-1')"
   ]
  },
  {
   "cell_type": "code",
   "execution_count": 10,
   "metadata": {},
   "outputs": [
    {
     "data": {
      "text/html": [
       "<div>\n",
       "<style scoped>\n",
       "    .dataframe tbody tr th:only-of-type {\n",
       "        vertical-align: middle;\n",
       "    }\n",
       "\n",
       "    .dataframe tbody tr th {\n",
       "        vertical-align: top;\n",
       "    }\n",
       "\n",
       "    .dataframe thead th {\n",
       "        text-align: right;\n",
       "    }\n",
       "</style>\n",
       "<table border=\"1\" class=\"dataframe\">\n",
       "  <thead>\n",
       "    <tr style=\"text-align: right;\">\n",
       "      <th></th>\n",
       "      <th>High</th>\n",
       "      <th>Low</th>\n",
       "      <th>Open</th>\n",
       "      <th>Close</th>\n",
       "      <th>Volume</th>\n",
       "      <th>Adj Close</th>\n",
       "    </tr>\n",
       "    <tr>\n",
       "      <th>Date</th>\n",
       "      <th></th>\n",
       "      <th></th>\n",
       "      <th></th>\n",
       "      <th></th>\n",
       "      <th></th>\n",
       "      <th></th>\n",
       "    </tr>\n",
       "  </thead>\n",
       "  <tbody>\n",
       "    <tr>\n",
       "      <th>2020-04-03</th>\n",
       "      <td>115.900002</td>\n",
       "      <td>113.010002</td>\n",
       "      <td>113.739998</td>\n",
       "      <td>115.080002</td>\n",
       "      <td>7768700.0</td>\n",
       "      <td>115.080002</td>\n",
       "    </tr>\n",
       "    <tr>\n",
       "      <th>2020-04-06</th>\n",
       "      <td>119.000000</td>\n",
       "      <td>114.580002</td>\n",
       "      <td>117.000000</td>\n",
       "      <td>117.809998</td>\n",
       "      <td>16848400.0</td>\n",
       "      <td>117.809998</td>\n",
       "    </tr>\n",
       "    <tr>\n",
       "      <th>2020-04-07</th>\n",
       "      <td>120.059998</td>\n",
       "      <td>112.500000</td>\n",
       "      <td>116.709999</td>\n",
       "      <td>112.769997</td>\n",
       "      <td>14438400.0</td>\n",
       "      <td>112.769997</td>\n",
       "    </tr>\n",
       "    <tr>\n",
       "      <th>2020-04-08</th>\n",
       "      <td>117.300003</td>\n",
       "      <td>111.860001</td>\n",
       "      <td>114.389999</td>\n",
       "      <td>115.099998</td>\n",
       "      <td>12564500.0</td>\n",
       "      <td>115.099998</td>\n",
       "    </tr>\n",
       "    <tr>\n",
       "      <th>2020-04-09</th>\n",
       "      <td>118.660004</td>\n",
       "      <td>114.199997</td>\n",
       "      <td>115.260002</td>\n",
       "      <td>114.660004</td>\n",
       "      <td>12748600.0</td>\n",
       "      <td>114.660004</td>\n",
       "    </tr>\n",
       "  </tbody>\n",
       "</table>\n",
       "</div>"
      ],
      "text/plain": [
       "                  High         Low        Open       Close      Volume  \\\n",
       "Date                                                                     \n",
       "2020-04-03  115.900002  113.010002  113.739998  115.080002   7768700.0   \n",
       "2020-04-06  119.000000  114.580002  117.000000  117.809998  16848400.0   \n",
       "2020-04-07  120.059998  112.500000  116.709999  112.769997  14438400.0   \n",
       "2020-04-08  117.300003  111.860001  114.389999  115.099998  12564500.0   \n",
       "2020-04-09  118.660004  114.199997  115.260002  114.660004  12748600.0   \n",
       "\n",
       "             Adj Close  \n",
       "Date                    \n",
       "2020-04-03  115.080002  \n",
       "2020-04-06  117.809998  \n",
       "2020-04-07  112.769997  \n",
       "2020-04-08  115.099998  \n",
       "2020-04-09  114.660004  "
      ]
     },
     "execution_count": 10,
     "metadata": {},
     "output_type": "execute_result"
    }
   ],
   "source": [
    "pg.tail()"
   ]
  },
  {
   "cell_type": "code",
   "execution_count": 9,
   "metadata": {},
   "outputs": [
    {
     "data": {
      "text/plain": [
       "High         1.565625e+01\n",
       "Low          1.531250e+01\n",
       "Open         1.553125e+01\n",
       "Close        1.546875e+01\n",
       "Volume       2.218800e+06\n",
       "Adj Close    6.311406e+00\n",
       "Name: 1995-01-04 00:00:00, dtype: float64"
      ]
     },
     "execution_count": 9,
     "metadata": {},
     "output_type": "execute_result"
    }
   ],
   "source": [
    "pg.iloc[1]"
   ]
  },
  {
   "cell_type": "code",
   "execution_count": 11,
   "metadata": {},
   "outputs": [
    {
     "name": "stdout",
     "output_type": "stream",
     "text": [
      "<class 'pandas.core.frame.DataFrame'>\n",
      "DatetimeIndex: 6363 entries, 1995-01-03 to 2020-04-09\n",
      "Data columns (total 6 columns):\n",
      "High         6363 non-null float64\n",
      "Low          6363 non-null float64\n",
      "Open         6363 non-null float64\n",
      "Close        6363 non-null float64\n",
      "Volume       6363 non-null float64\n",
      "Adj Close    6363 non-null float64\n",
      "dtypes: float64(6)\n",
      "memory usage: 348.0 KB\n"
     ]
    }
   ],
   "source": [
    "pg.info()"
   ]
  },
  {
   "cell_type": "code",
   "execution_count": 23,
   "metadata": {},
   "outputs": [],
   "source": [
    "tickets = ['PG', 'MSFT', 'T', 'F', 'GE']\n",
    "new_data = pd.DataFrame()\n",
    "for x in tickets:\n",
    "    new_data[x] = wb.DataReader(x, data_source='yahoo', start='1995-1-1', end = '2017-03-22')['Adj Close']"
   ]
  },
  {
   "cell_type": "code",
   "execution_count": 24,
   "metadata": {},
   "outputs": [
    {
     "data": {
      "text/html": [
       "<div>\n",
       "<style scoped>\n",
       "    .dataframe tbody tr th:only-of-type {\n",
       "        vertical-align: middle;\n",
       "    }\n",
       "\n",
       "    .dataframe tbody tr th {\n",
       "        vertical-align: top;\n",
       "    }\n",
       "\n",
       "    .dataframe thead th {\n",
       "        text-align: right;\n",
       "    }\n",
       "</style>\n",
       "<table border=\"1\" class=\"dataframe\">\n",
       "  <thead>\n",
       "    <tr style=\"text-align: right;\">\n",
       "      <th></th>\n",
       "      <th>PG</th>\n",
       "      <th>MSFT</th>\n",
       "      <th>T</th>\n",
       "      <th>F</th>\n",
       "      <th>GE</th>\n",
       "    </tr>\n",
       "    <tr>\n",
       "      <th>Date</th>\n",
       "      <th></th>\n",
       "      <th></th>\n",
       "      <th></th>\n",
       "      <th></th>\n",
       "      <th></th>\n",
       "    </tr>\n",
       "  </thead>\n",
       "  <tbody>\n",
       "    <tr>\n",
       "      <th>2017-03-16</th>\n",
       "      <td>83.470169</td>\n",
       "      <td>61.450130</td>\n",
       "      <td>35.218681</td>\n",
       "      <td>10.632527</td>\n",
       "      <td>26.511957</td>\n",
       "    </tr>\n",
       "    <tr>\n",
       "      <th>2017-03-17</th>\n",
       "      <td>83.068504</td>\n",
       "      <td>61.668781</td>\n",
       "      <td>35.359760</td>\n",
       "      <td>10.448341</td>\n",
       "      <td>26.627811</td>\n",
       "    </tr>\n",
       "    <tr>\n",
       "      <th>2017-03-20</th>\n",
       "      <td>83.269333</td>\n",
       "      <td>61.725811</td>\n",
       "      <td>35.202087</td>\n",
       "      <td>10.280901</td>\n",
       "      <td>26.503046</td>\n",
       "    </tr>\n",
       "    <tr>\n",
       "      <th>2017-03-21</th>\n",
       "      <td>83.241959</td>\n",
       "      <td>61.041351</td>\n",
       "      <td>34.919945</td>\n",
       "      <td>9.812062</td>\n",
       "      <td>26.191143</td>\n",
       "    </tr>\n",
       "    <tr>\n",
       "      <th>2017-03-22</th>\n",
       "      <td>83.059387</td>\n",
       "      <td>61.820881</td>\n",
       "      <td>34.563110</td>\n",
       "      <td>9.853926</td>\n",
       "      <td>26.315897</td>\n",
       "    </tr>\n",
       "  </tbody>\n",
       "</table>\n",
       "</div>"
      ],
      "text/plain": [
       "                   PG       MSFT          T          F         GE\n",
       "Date                                                             \n",
       "2017-03-16  83.470169  61.450130  35.218681  10.632527  26.511957\n",
       "2017-03-17  83.068504  61.668781  35.359760  10.448341  26.627811\n",
       "2017-03-20  83.269333  61.725811  35.202087  10.280901  26.503046\n",
       "2017-03-21  83.241959  61.041351  34.919945   9.812062  26.191143\n",
       "2017-03-22  83.059387  61.820881  34.563110   9.853926  26.315897"
      ]
     },
     "execution_count": 24,
     "metadata": {},
     "output_type": "execute_result"
    }
   ],
   "source": [
    "new_data.tail()"
   ]
  },
  {
   "cell_type": "code",
   "execution_count": null,
   "metadata": {},
   "outputs": [],
   "source": []
  }
 ],
 "metadata": {
  "kernelspec": {
   "display_name": "Python 3",
   "language": "python",
   "name": "python3"
  },
  "language_info": {
   "codemirror_mode": {
    "name": "ipython",
    "version": 3
   },
   "file_extension": ".py",
   "mimetype": "text/x-python",
   "name": "python",
   "nbconvert_exporter": "python",
   "pygments_lexer": "ipython3",
   "version": "3.7.3"
  }
 },
 "nbformat": 4,
 "nbformat_minor": 2
}
